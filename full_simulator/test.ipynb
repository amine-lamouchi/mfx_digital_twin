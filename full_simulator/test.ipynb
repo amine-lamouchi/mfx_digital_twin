{
 "cells": [
  {
   "cell_type": "code",
   "execution_count": 21,
   "id": "a5f48547",
   "metadata": {},
   "outputs": [],
   "source": [
    "%matplotlib widget\n",
    "from lcls_beamline_toolbox.models import mfx\n",
    "import vonhamos_spectrometer as vh\n"
   ]
  },
  {
   "cell_type": "code",
   "execution_count": null,
   "id": "580a1c8f",
   "metadata": {},
   "outputs": [
    {
     "name": "stdout",
     "output_type": "stream",
     "text": [
      "-0.000552\n",
      "-8e-06\n"
     ]
    },
    {
     "ename": "ValueError",
     "evalue": "zero-size array to reduction operation maximum which has no identity",
     "output_type": "error",
     "traceback": [
      "\u001b[0;31m---------------------------------------------------------------------------\u001b[0m",
      "\u001b[0;31mValueError\u001b[0m                                Traceback (most recent call last)",
      "Cell \u001b[0;32mIn[28], line 33\u001b[0m\n\u001b[1;32m     31\u001b[0m \u001b[38;5;28mprint\u001b[39m(step \u001b[38;5;241m*\u001b[39m offset)\n\u001b[1;32m     32\u001b[0m sim\u001b[38;5;241m.\u001b[39mmr1l4_pitch\u001b[38;5;241m.\u001b[39mmv(step \u001b[38;5;241m*\u001b[39m offset)\n\u001b[0;32m---> 33\u001b[0m \u001b[43msim\u001b[49m\u001b[38;5;241;43m.\u001b[39;49m\u001b[43mpropagate\u001b[49m\u001b[43m(\u001b[49m\u001b[43m)\u001b[49m\n\u001b[1;32m     35\u001b[0m pitch \u001b[38;5;241m=\u001b[39m sim\u001b[38;5;241m.\u001b[39mmr1l4_pitch\u001b[38;5;241m.\u001b[39mwm()\n\u001b[1;32m     36\u001b[0m img   \u001b[38;5;241m=\u001b[39m sim\u001b[38;5;241m.\u001b[39mbeamline\u001b[38;5;241m.\u001b[39mDG1_YAG\u001b[38;5;241m.\u001b[39mprofile\n",
      "File \u001b[0;32m~/mfx_digital_twin/lcls_beamline_toolbox/models/mfx.py:109\u001b[0m, in \u001b[0;36mMFX.propagate\u001b[0;34m(self)\u001b[0m\n\u001b[1;32m    108\u001b[0m \u001b[38;5;28;01mdef\u001b[39;00m\u001b[38;5;250m \u001b[39m\u001b[38;5;21mpropagate\u001b[39m(\u001b[38;5;28mself\u001b[39m):\n\u001b[0;32m--> 109\u001b[0m     b2 \u001b[38;5;241m=\u001b[39m \u001b[38;5;28;43mself\u001b[39;49m\u001b[38;5;241;43m.\u001b[39;49m\u001b[43mbeamline\u001b[49m\u001b[38;5;241;43m.\u001b[39;49m\u001b[43mpropagate_beamline\u001b[49m\u001b[43m(\u001b[49m\u001b[38;5;28;43mself\u001b[39;49m\u001b[38;5;241;43m.\u001b[39;49m\u001b[43mb1\u001b[49m\u001b[43m)\u001b[49m\n",
      "File \u001b[0;32m~/mfx_digital_twin/lcls_beamline_toolbox/xraywavetrace/beamline2d.py:694\u001b[0m, in \u001b[0;36mBeamline.propagate_beamline\u001b[0;34m(self, beam_in)\u001b[0m\n\u001b[1;32m    690\u001b[0m \u001b[38;5;28;01mfor\u001b[39;00m device \u001b[38;5;129;01min\u001b[39;00m \u001b[38;5;28mself\u001b[39m\u001b[38;5;241m.\u001b[39mfull_list[\u001b[38;5;241m1\u001b[39m:]:\n\u001b[1;32m    691\u001b[0m \n\u001b[1;32m    692\u001b[0m     \u001b[38;5;66;03m# propagate through device. beam is modified directly.\u001b[39;00m\n\u001b[1;32m    693\u001b[0m     start \u001b[38;5;241m=\u001b[39m time\u001b[38;5;241m.\u001b[39mtime()\n\u001b[0;32m--> 694\u001b[0m     beam_list \u001b[38;5;241m=\u001b[39m \u001b[43mdevice\u001b[49m\u001b[38;5;241;43m.\u001b[39;49m\u001b[43mpropagate\u001b[49m\u001b[43m(\u001b[49m\u001b[43mbeam_list\u001b[49m\u001b[43m)\u001b[49m\n\u001b[1;32m    695\u001b[0m     end \u001b[38;5;241m=\u001b[39m time\u001b[38;5;241m.\u001b[39mtime()\n\u001b[1;32m    696\u001b[0m     \u001b[38;5;28;01mif\u001b[39;00m \u001b[38;5;129;01mnot\u001b[39;00m \u001b[38;5;28mself\u001b[39m\u001b[38;5;241m.\u001b[39msuppress:\n",
      "File \u001b[0;32m~/mfx_digital_twin/lcls_beamline_toolbox/xraywavetrace/optics.py:6809\u001b[0m, in \u001b[0;36mCRL.propagate\u001b[0;34m(self, beam_list)\u001b[0m\n\u001b[1;32m   6807\u001b[0m \u001b[38;5;28;01mif\u001b[39;00m \u001b[38;5;28mself\u001b[39m\u001b[38;5;241m.\u001b[39menabled:\n\u001b[1;32m   6808\u001b[0m     \u001b[38;5;28;01mfor\u001b[39;00m num, beam \u001b[38;5;129;01min\u001b[39;00m \u001b[38;5;28menumerate\u001b[39m(beam_list):\n\u001b[0;32m-> 6809\u001b[0m         new_beam \u001b[38;5;241m=\u001b[39m \u001b[38;5;28;43mself\u001b[39;49m\u001b[38;5;241;43m.\u001b[39;49m\u001b[43mmultiply\u001b[49m\u001b[43m(\u001b[49m\u001b[43mnum\u001b[49m\u001b[43m,\u001b[49m\u001b[43m \u001b[49m\u001b[43mbeam\u001b[49m\u001b[43m)\u001b[49m\n\u001b[1;32m   6810\u001b[0m         \u001b[38;5;28;01mif\u001b[39;00m new_beam \u001b[38;5;129;01mis\u001b[39;00m \u001b[38;5;129;01mnot\u001b[39;00m \u001b[38;5;28;01mNone\u001b[39;00m:\n\u001b[1;32m   6811\u001b[0m             new_list\u001b[38;5;241m.\u001b[39mappend(new_beam)\n",
      "File \u001b[0;32m~/mfx_digital_twin/lcls_beamline_toolbox/xraywavetrace/optics.py:6756\u001b[0m, in \u001b[0;36mCRL.multiply\u001b[0;34m(self, num, beam)\u001b[0m\n\u001b[1;32m   6753\u001b[0m mask2 \u001b[38;5;241m=\u001b[39m np\u001b[38;5;241m.\u001b[39mlogical_not(mask)\n\u001b[1;32m   6755\u001b[0m \u001b[38;5;66;03m# cap thickness to maximum of lens area\u001b[39;00m\n\u001b[0;32m-> 6756\u001b[0m thickness[np\u001b[38;5;241m.\u001b[39mlogical_not(mask)] \u001b[38;5;241m=\u001b[39m \u001b[43mnp\u001b[49m\u001b[38;5;241;43m.\u001b[39;49m\u001b[43mmax\u001b[49m\u001b[43m(\u001b[49m\u001b[43mthickness\u001b[49m\u001b[43m[\u001b[49m\u001b[43mmask\u001b[49m\u001b[43m]\u001b[49m\u001b[43m)\u001b[49m\n\u001b[1;32m   6758\u001b[0m \u001b[38;5;66;03m# subtract 2nd order and linear terms\u001b[39;00m\n\u001b[1;32m   6759\u001b[0m phase \u001b[38;5;241m=\u001b[39m \u001b[38;5;241m-\u001b[39mbeam\u001b[38;5;241m.\u001b[39mk0 \u001b[38;5;241m*\u001b[39m delta \u001b[38;5;241m*\u001b[39m (thickness \u001b[38;5;241m-\u001b[39m \u001b[38;5;241m2\u001b[39m \u001b[38;5;241m/\u001b[39m \u001b[38;5;241m2\u001b[39m \u001b[38;5;241m/\u001b[39m \u001b[38;5;28mself\u001b[39m\u001b[38;5;241m.\u001b[39mroc \u001b[38;5;241m*\u001b[39m ((xi \u001b[38;5;241m-\u001b[39m \u001b[38;5;28mself\u001b[39m\u001b[38;5;241m.\u001b[39mdx) \u001b[38;5;241m*\u001b[39m\u001b[38;5;241m*\u001b[39m \u001b[38;5;241m2\u001b[39m \u001b[38;5;241m+\u001b[39m (yi \u001b[38;5;241m-\u001b[39m \u001b[38;5;28mself\u001b[39m\u001b[38;5;241m.\u001b[39mdy) \u001b[38;5;241m*\u001b[39m\u001b[38;5;241m*\u001b[39m \u001b[38;5;241m2\u001b[39m))\n",
      "File \u001b[0;32m~/opt/anaconda3/envs/mini_env/lib/python3.9/site-packages/numpy/core/fromnumeric.py:2810\u001b[0m, in \u001b[0;36mmax\u001b[0;34m(a, axis, out, keepdims, initial, where)\u001b[0m\n\u001b[1;32m   2692\u001b[0m \u001b[38;5;129m@array_function_dispatch\u001b[39m(_max_dispatcher)\n\u001b[1;32m   2693\u001b[0m \u001b[38;5;129m@set_module\u001b[39m(\u001b[38;5;124m'\u001b[39m\u001b[38;5;124mnumpy\u001b[39m\u001b[38;5;124m'\u001b[39m)\n\u001b[1;32m   2694\u001b[0m \u001b[38;5;28;01mdef\u001b[39;00m\u001b[38;5;250m \u001b[39m\u001b[38;5;21mmax\u001b[39m(a, axis\u001b[38;5;241m=\u001b[39m\u001b[38;5;28;01mNone\u001b[39;00m, out\u001b[38;5;241m=\u001b[39m\u001b[38;5;28;01mNone\u001b[39;00m, keepdims\u001b[38;5;241m=\u001b[39mnp\u001b[38;5;241m.\u001b[39m_NoValue, initial\u001b[38;5;241m=\u001b[39mnp\u001b[38;5;241m.\u001b[39m_NoValue,\n\u001b[1;32m   2695\u001b[0m          where\u001b[38;5;241m=\u001b[39mnp\u001b[38;5;241m.\u001b[39m_NoValue):\n\u001b[1;32m   2696\u001b[0m \u001b[38;5;250m    \u001b[39m\u001b[38;5;124;03m\"\"\"\u001b[39;00m\n\u001b[1;32m   2697\u001b[0m \u001b[38;5;124;03m    Return the maximum of an array or maximum along an axis.\u001b[39;00m\n\u001b[1;32m   2698\u001b[0m \n\u001b[0;32m   (...)\u001b[0m\n\u001b[1;32m   2808\u001b[0m \u001b[38;5;124;03m    5\u001b[39;00m\n\u001b[1;32m   2809\u001b[0m \u001b[38;5;124;03m    \"\"\"\u001b[39;00m\n\u001b[0;32m-> 2810\u001b[0m     \u001b[38;5;28;01mreturn\u001b[39;00m \u001b[43m_wrapreduction\u001b[49m\u001b[43m(\u001b[49m\u001b[43ma\u001b[49m\u001b[43m,\u001b[49m\u001b[43m \u001b[49m\u001b[43mnp\u001b[49m\u001b[38;5;241;43m.\u001b[39;49m\u001b[43mmaximum\u001b[49m\u001b[43m,\u001b[49m\u001b[43m \u001b[49m\u001b[38;5;124;43m'\u001b[39;49m\u001b[38;5;124;43mmax\u001b[39;49m\u001b[38;5;124;43m'\u001b[39;49m\u001b[43m,\u001b[49m\u001b[43m \u001b[49m\u001b[43maxis\u001b[49m\u001b[43m,\u001b[49m\u001b[43m \u001b[49m\u001b[38;5;28;43;01mNone\u001b[39;49;00m\u001b[43m,\u001b[49m\u001b[43m \u001b[49m\u001b[43mout\u001b[49m\u001b[43m,\u001b[49m\n\u001b[1;32m   2811\u001b[0m \u001b[43m                          \u001b[49m\u001b[43mkeepdims\u001b[49m\u001b[38;5;241;43m=\u001b[39;49m\u001b[43mkeepdims\u001b[49m\u001b[43m,\u001b[49m\u001b[43m \u001b[49m\u001b[43minitial\u001b[49m\u001b[38;5;241;43m=\u001b[39;49m\u001b[43minitial\u001b[49m\u001b[43m,\u001b[49m\u001b[43m \u001b[49m\u001b[43mwhere\u001b[49m\u001b[38;5;241;43m=\u001b[39;49m\u001b[43mwhere\u001b[49m\u001b[43m)\u001b[49m\n",
      "File \u001b[0;32m~/opt/anaconda3/envs/mini_env/lib/python3.9/site-packages/numpy/core/fromnumeric.py:88\u001b[0m, in \u001b[0;36m_wrapreduction\u001b[0;34m(obj, ufunc, method, axis, dtype, out, **kwargs)\u001b[0m\n\u001b[1;32m     85\u001b[0m         \u001b[38;5;28;01melse\u001b[39;00m:\n\u001b[1;32m     86\u001b[0m             \u001b[38;5;28;01mreturn\u001b[39;00m reduction(axis\u001b[38;5;241m=\u001b[39maxis, out\u001b[38;5;241m=\u001b[39mout, \u001b[38;5;241m*\u001b[39m\u001b[38;5;241m*\u001b[39mpasskwargs)\n\u001b[0;32m---> 88\u001b[0m \u001b[38;5;28;01mreturn\u001b[39;00m \u001b[43mufunc\u001b[49m\u001b[38;5;241;43m.\u001b[39;49m\u001b[43mreduce\u001b[49m\u001b[43m(\u001b[49m\u001b[43mobj\u001b[49m\u001b[43m,\u001b[49m\u001b[43m \u001b[49m\u001b[43maxis\u001b[49m\u001b[43m,\u001b[49m\u001b[43m \u001b[49m\u001b[43mdtype\u001b[49m\u001b[43m,\u001b[49m\u001b[43m \u001b[49m\u001b[43mout\u001b[49m\u001b[43m,\u001b[49m\u001b[43m \u001b[49m\u001b[38;5;241;43m*\u001b[39;49m\u001b[38;5;241;43m*\u001b[39;49m\u001b[43mpasskwargs\u001b[49m\u001b[43m)\u001b[49m\n",
      "\u001b[0;31mValueError\u001b[0m: zero-size array to reduction operation maximum which has no identity"
     ]
    }
   ],
   "source": [
    "mfx_sim = mfx.MFX(E0=9000, N=256)\n",
    "\n",
    "import os, glob\n",
    "import numpy as np\n",
    "import matplotlib.pyplot as plt\n",
    "from PIL import Image\n",
    "\n",
    "# ---------------- CONFIG ------------------------------------------------------\n",
    "offset       = 1e-6               # rad per step unit (µrad)\n",
    "steps        = np.linspace(-5, 5, 15)   # 15 points\n",
    "output_dir   = \"pitch_scan\"\n",
    "gif_name     = \"pitch_scan.gif\"\n",
    "gif_duration = 500                # ms per frame\n",
    "# -----------------------------------------------------------------------------\n",
    "\n",
    "\n",
    "# -------- fresh output directory ---------------------------------------------\n",
    "os.makedirs(output_dir, exist_ok=True)\n",
    "for f in glob.glob(os.path.join(output_dir, \"frame_*.png\")):\n",
    "    os.remove(f)\n",
    "\n",
    "# -------- scan MR1L4 pitch ----------------------------------------------------\n",
    "pitch_vals, xcm_vals, frame_paths = [], [], []\n",
    "vmin, vmax = np.inf, -np.inf\n",
    "profiles   = []\n",
    "\n",
    "for idx, step in enumerate(steps):\n",
    "    sim = mfx.MFX(9500, N=256)\n",
    "    #print(dir(sim))\n",
    "    print(sim.mr1l4_pitch.wm())\n",
    "    print(step * offset)\n",
    "    sim.mr1l4_pitch.mvr(step * offset)\n",
    "    sim.propagate()\n",
    "\n",
    "    pitch = sim.mr1l4_pitch.wm()\n",
    "    img   = sim.beamline.DG1_YAG.profile\n",
    "    profiles.append(img)\n",
    "    pitch_vals.append(pitch)\n",
    "\n",
    "    # pixel-space centroid\n",
    "    dx = sim.beamline.DG1_YAG.dx\n",
    "    nx = img.shape[1]\n",
    "    xcm = sim.beamline.DG1_YAG.cx / dx + nx / 2\n",
    "    xcm_vals.append(xcm)\n",
    "\n",
    "    vmin = min(vmin, img.min())\n",
    "    vmax = max(vmax, img.max())\n",
    "\n",
    "    # build frame via view_beam()\n",
    "    axes = sim.beamline.DG1_YAG.view_beam()         # [profile, x, y] axes\n",
    "    axes[0].set_title(f\"DG1_YAG – MR1L4 Pitch: {pitch:.2e}\")  # same style as TFS_Z\n",
    "    fig = axes[0].figure\n",
    "\n",
    "    frame = os.path.join(output_dir, f\"frame_{idx:02d}.png\")\n",
    "    fig.savefig(frame, bbox_inches=\"tight\", dpi=150)\n",
    "    plt.close(fig)\n",
    "    frame_paths.append(frame)\n",
    "\n",
    "# -------- make GIF ------------------------------------------------------------\n",
    "gif_path = os.path.join(output_dir, gif_name)\n",
    "Image.open(frame_paths[0]).save(\n",
    "    gif_path,\n",
    "    save_all=True,\n",
    "    append_images=[Image.open(p) for p in frame_paths[1:]],\n",
    "    duration=gif_duration,\n",
    "    loop=0\n",
    ")\n",
    "print(\"GIF saved →\", gif_path)\n",
    "\n",
    "# -------- quadratic fit in µrad ---------------------------------------------\n",
    "pitch_vals = np.asarray(pitch_vals, dtype=float)   \n",
    "xcm_vals   = np.asarray(xcm_vals,   dtype=float)\n",
    "pitch_mu  = pitch_vals * 1e6          \n",
    "\n",
    "# -------- diagnostic plot -----------------------------------------------------\n",
    "plt.figure()\n",
    "plt.plot(pitch_mu, xcm_vals, \"o\", label=\"data\")\n",
    "plt.xlabel(\"Pitch (µrad)\")\n",
    "plt.ylabel(\"Spot x-centroid (px)\")\n",
    "plt.title(\"DG1_YAG spot position vs MR1L4 pitch\")\n",
    "plt.tight_layout()\n",
    "plt.savefig(os.path.join(output_dir, \"pitch_fit.png\"), dpi=150)\n",
    "plt.close()\n",
    "print(\"Diagnostic plot →\", os.path.join(output_dir, \"pitch_fit.png\"))\n",
    "\n",
    "print(\"Saved diagnostic plot in\", output_dir)\n"
   ]
  },
  {
   "cell_type": "code",
   "execution_count": 24,
   "id": "70d14edd",
   "metadata": {},
   "outputs": [],
   "source": [
    "mfx_sim.propagate()\n",
    "# mfx_sim.beamline.DG2_YAG.view_beam()\n",
    "\n",
    "# mfx_ip = mfx_sim.beamline.MFX_IP\n",
    "# mfx_sim.beamline.MFX_IP.view_beam()\n",
    "\n",
    "# wx = mfx_ip.wx * 1000 / 2.355   # convert from m to mm then FWHM to sigma\n",
    "# wy = mfx_ip.wy * 1000 / 2.355"
   ]
  },
  {
   "cell_type": "code",
   "execution_count": 17,
   "id": "5840847d",
   "metadata": {},
   "outputs": [
    {
     "name": "stdout",
     "output_type": "stream",
     "text": [
      "The last 10 runs\n",
      "/Users/aminelamouchi/opt/anaconda3/envs/mini_env/lib/python3.9/inspect.py::\n",
      "start: Mon, 21 Jul 2025 16:04:51; stop: 16:04:59; duration: 7.6 s\n",
      "/Users/aminelamouchi/opt/anaconda3/envs/mini_env/lib/python3.9/inspect.py::\n",
      "start: Mon, 21 Jul 2025 16:05:34; stop: 16:05:41; duration: 6.9 s\n",
      "/Users/aminelamouchi/opt/anaconda3/envs/mini_env/lib/python3.9/inspect.py::\n",
      "start: Mon, 21 Jul 2025 17:20:16; stop: 17:20:22; duration: 6.1 s\n",
      "/Users/aminelamouchi/opt/anaconda3/envs/mini_env/lib/python3.9/inspect.py::\n",
      "start: Mon, 21 Jul 2025 17:35:42; stop: 17:35:48; duration: 6.3 s\n",
      "/Users/aminelamouchi/opt/anaconda3/envs/mini_env/lib/python3.9/inspect.py::\n",
      "start: Mon, 21 Jul 2025 17:35:59; stop: 17:36:05; duration: 6.3 s\n",
      "/Users/aminelamouchi/opt/anaconda3/envs/mini_env/lib/python3.9/inspect.py::\n",
      "start: Mon, 21 Jul 2025 17:37:33; stop: 17:37:41; duration: 7.7 s\n",
      "/Users/aminelamouchi/opt/anaconda3/envs/mini_env/lib/python3.9/inspect.py::\n",
      "start: Mon, 21 Jul 2025 17:46:03; stop: 17:46:09; duration: 6.0 s\n",
      "/Users/aminelamouchi/opt/anaconda3/envs/mini_env/lib/python3.9/inspect.py::\n",
      "start: Mon, 21 Jul 2025 17:54:23; stop: 17:54:30; duration: 6.8 s\n",
      "/Users/aminelamouchi/opt/anaconda3/envs/mini_env/lib/python3.9/inspect.py::\n",
      "start: Mon, 21 Jul 2025 18:00:56; stop: 18:01:05; duration: 8.7 s\n",
      "/Users/aminelamouchi/opt/anaconda3/envs/mini_env/lib/python3.9/inspect.py::\n",
      "start: Mon, 21 Jul 2025 18:03:48; stop: 18:03:54; duration: 6.5 s\n",
      "The job is running... \n",
      "The ray tracing with 1 iteration took 6.6 s\n",
      "finished\n",
      "Repeat 1 of 1 done in 6.6 s\n"
     ]
    },
    {
     "name": "stderr",
     "output_type": "stream",
     "text": [
      "/Users/aminelamouchi/opt/anaconda3/envs/mini_env/lib/python3.9/site-packages/xrt-1.6.1-py3.9.egg/xrt/runner.py:651: UserWarning: FigureCanvasAgg is non-interactive, and thus cannot be shown\n",
      "  plt.show()\n"
     ]
    }
   ],
   "source": [
    "# 2) build von Hamos spectrometer and attach source\n",
    "beamLine = vh.build_beamline(energy=mfx_sim.E0, beamH=wx, beamV=wy)\n",
    "\n",
    "# 3) run ray tracing\n",
    "vh.rrun.run_process = vh.run_process\n",
    "plots = vh.define_plots()\n",
    "vh.xrtrun.run_ray_tracing(plots=plots, beamLine=beamLine, backend=\"raycing\")"
   ]
  },
  {
   "cell_type": "code",
   "execution_count": 18,
   "id": "898e7852",
   "metadata": {},
   "outputs": [
    {
     "name": "stdout",
     "output_type": "stream",
     "text": [
      "x center:  0.02810745546078031\n",
      "x FWHM:  0.3749705173225689\n",
      "y center:  -0.6206777687648077\n",
      "y FWHM:  9.040630524264913\n"
     ]
    }
   ],
   "source": [
    "plot = plots[0]  # This is the XYCPlot object\n",
    "\n",
    "cx = plot.cx\n",
    "cy = plot.cy\n",
    "dx = plot.dx/2\n",
    "dy = plot.dy/2\n",
    "\n",
    "print(\"x center: \", cx)\n",
    "print(\"x FWHM: \", dx)\n",
    "print(\"y center: \", cy)\n",
    "print(\"y FWHM: \", dy)"
   ]
  },
  {
   "cell_type": "code",
   "execution_count": 31,
   "id": "faffc423",
   "metadata": {},
   "outputs": [
    {
     "name": "stdout",
     "output_type": "stream",
     "text": [
      "crl tfs_2 (500.0um ROC) inserted: True\n",
      "crl tfs_3 (300.0um ROC) inserted: False\n",
      "crl tfs_4 (250.0um ROC) inserted: False\n",
      "crl tfs_5 (200.0um ROC) inserted: False\n",
      "crl tfs_6 (125.0um ROC) inserted: True\n",
      "crl tfs_7 (62.5um ROC) inserted: True\n",
      "crl tfs_8 (50.0um ROC) inserted: False\n",
      "crl tfs_9 (50.0um ROC) inserted: False\n",
      "crl tfs_10 (50.0um ROC) inserted: False\n"
     ]
    }
   ],
   "source": [
    "# check which crls are in use\n",
    "for crl in mfx_sim.tfs_list:\n",
    "    print('crl {} ({}um ROC) inserted: {}'.format(crl.name,crl.roc*1e6,crl.enabled))"
   ]
  },
  {
   "cell_type": "code",
   "execution_count": 33,
   "id": "f67d01af",
   "metadata": {},
   "outputs": [
    {
     "data": {
      "text/plain": [
       "-inf"
      ]
     },
     "execution_count": 33,
     "metadata": {},
     "output_type": "execute_result"
    }
   ],
   "source": [
    "mfx_sim.tfs_2_x.wm()"
   ]
  },
  {
   "cell_type": "code",
   "execution_count": 29,
   "id": "8fdbe3d5",
   "metadata": {},
   "outputs": [
    {
     "data": {
      "text/plain": [
       "0"
      ]
     },
     "execution_count": 29,
     "metadata": {},
     "output_type": "execute_result"
    }
   ],
   "source": [
    "mfx_sim.beam_params['ax']"
   ]
  },
  {
   "cell_type": "code",
   "execution_count": null,
   "id": "b047dd6d",
   "metadata": {},
   "outputs": [],
   "source": []
  }
 ],
 "metadata": {
  "kernelspec": {
   "display_name": "mini_env",
   "language": "python",
   "name": "python3"
  },
  "language_info": {
   "codemirror_mode": {
    "name": "ipython",
    "version": 3
   },
   "file_extension": ".py",
   "mimetype": "text/x-python",
   "name": "python",
   "nbconvert_exporter": "python",
   "pygments_lexer": "ipython3",
   "version": "3.9.21"
  }
 },
 "nbformat": 4,
 "nbformat_minor": 5
}
