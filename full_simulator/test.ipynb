{
 "cells": [
  {
   "cell_type": "code",
   "execution_count": 21,
   "id": "a5f48547",
   "metadata": {},
   "outputs": [],
   "source": [
    "%matplotlib widget\n",
    "from lcls_beamline_toolbox.models import mfx\n",
    "import vonhamos_spectrometer as vh\n"
   ]
  },
  {
   "cell_type": "code",
   "execution_count": 22,
   "id": "580a1c8f",
   "metadata": {},
   "outputs": [],
   "source": [
    "mfx_sim = mfx.MFX(E0=9000, N=256)\n"
   ]
  },
  {
   "cell_type": "code",
   "execution_count": 24,
   "id": "70d14edd",
   "metadata": {},
   "outputs": [],
   "source": [
    "mfx_sim.propagate()\n",
    "# mfx_sim.beamline.DG2_YAG.view_beam()\n",
    "\n",
    "# mfx_ip = mfx_sim.beamline.MFX_IP\n",
    "# mfx_sim.beamline.MFX_IP.view_beam()\n",
    "\n",
    "# wx = mfx_ip.wx * 1000 / 2.355   # convert from m to mm then FWHM to sigma\n",
    "# wy = mfx_ip.wy * 1000 / 2.355"
   ]
  },
  {
   "cell_type": "code",
   "execution_count": 17,
   "id": "5840847d",
   "metadata": {},
   "outputs": [
    {
     "name": "stdout",
     "output_type": "stream",
     "text": [
      "The last 10 runs\n",
      "/Users/aminelamouchi/opt/anaconda3/envs/mini_env/lib/python3.9/inspect.py::\n",
      "start: Mon, 21 Jul 2025 16:04:51; stop: 16:04:59; duration: 7.6 s\n",
      "/Users/aminelamouchi/opt/anaconda3/envs/mini_env/lib/python3.9/inspect.py::\n",
      "start: Mon, 21 Jul 2025 16:05:34; stop: 16:05:41; duration: 6.9 s\n",
      "/Users/aminelamouchi/opt/anaconda3/envs/mini_env/lib/python3.9/inspect.py::\n",
      "start: Mon, 21 Jul 2025 17:20:16; stop: 17:20:22; duration: 6.1 s\n",
      "/Users/aminelamouchi/opt/anaconda3/envs/mini_env/lib/python3.9/inspect.py::\n",
      "start: Mon, 21 Jul 2025 17:35:42; stop: 17:35:48; duration: 6.3 s\n",
      "/Users/aminelamouchi/opt/anaconda3/envs/mini_env/lib/python3.9/inspect.py::\n",
      "start: Mon, 21 Jul 2025 17:35:59; stop: 17:36:05; duration: 6.3 s\n",
      "/Users/aminelamouchi/opt/anaconda3/envs/mini_env/lib/python3.9/inspect.py::\n",
      "start: Mon, 21 Jul 2025 17:37:33; stop: 17:37:41; duration: 7.7 s\n",
      "/Users/aminelamouchi/opt/anaconda3/envs/mini_env/lib/python3.9/inspect.py::\n",
      "start: Mon, 21 Jul 2025 17:46:03; stop: 17:46:09; duration: 6.0 s\n",
      "/Users/aminelamouchi/opt/anaconda3/envs/mini_env/lib/python3.9/inspect.py::\n",
      "start: Mon, 21 Jul 2025 17:54:23; stop: 17:54:30; duration: 6.8 s\n",
      "/Users/aminelamouchi/opt/anaconda3/envs/mini_env/lib/python3.9/inspect.py::\n",
      "start: Mon, 21 Jul 2025 18:00:56; stop: 18:01:05; duration: 8.7 s\n",
      "/Users/aminelamouchi/opt/anaconda3/envs/mini_env/lib/python3.9/inspect.py::\n",
      "start: Mon, 21 Jul 2025 18:03:48; stop: 18:03:54; duration: 6.5 s\n",
      "The job is running... \n",
      "The ray tracing with 1 iteration took 6.6 s\n",
      "finished\n",
      "Repeat 1 of 1 done in 6.6 s\n"
     ]
    },
    {
     "name": "stderr",
     "output_type": "stream",
     "text": [
      "/Users/aminelamouchi/opt/anaconda3/envs/mini_env/lib/python3.9/site-packages/xrt-1.6.1-py3.9.egg/xrt/runner.py:651: UserWarning: FigureCanvasAgg is non-interactive, and thus cannot be shown\n",
      "  plt.show()\n"
     ]
    }
   ],
   "source": [
    "# 2) build von Hamos spectrometer and attach source\n",
    "beamLine = vh.build_beamline(energy=mfx_sim.E0, beamH=wx, beamV=wy)\n",
    "\n",
    "# 3) run ray tracing\n",
    "vh.rrun.run_process = vh.run_process\n",
    "plots = vh.define_plots()\n",
    "vh.xrtrun.run_ray_tracing(plots=plots, beamLine=beamLine, backend=\"raycing\")"
   ]
  },
  {
   "cell_type": "code",
   "execution_count": 18,
   "id": "898e7852",
   "metadata": {},
   "outputs": [
    {
     "name": "stdout",
     "output_type": "stream",
     "text": [
      "x center:  0.02810745546078031\n",
      "x FWHM:  0.3749705173225689\n",
      "y center:  -0.6206777687648077\n",
      "y FWHM:  9.040630524264913\n"
     ]
    }
   ],
   "source": [
    "plot = plots[0]  # This is the XYCPlot object\n",
    "\n",
    "cx = plot.cx\n",
    "cy = plot.cy\n",
    "dx = plot.dx/2\n",
    "dy = plot.dy/2\n",
    "\n",
    "print(\"x center: \", cx)\n",
    "print(\"x FWHM: \", dx)\n",
    "print(\"y center: \", cy)\n",
    "print(\"y FWHM: \", dy)"
   ]
  },
  {
   "cell_type": "code",
   "execution_count": 31,
   "id": "faffc423",
   "metadata": {},
   "outputs": [
    {
     "name": "stdout",
     "output_type": "stream",
     "text": [
      "crl tfs_2 (500.0um ROC) inserted: True\n",
      "crl tfs_3 (300.0um ROC) inserted: False\n",
      "crl tfs_4 (250.0um ROC) inserted: False\n",
      "crl tfs_5 (200.0um ROC) inserted: False\n",
      "crl tfs_6 (125.0um ROC) inserted: True\n",
      "crl tfs_7 (62.5um ROC) inserted: True\n",
      "crl tfs_8 (50.0um ROC) inserted: False\n",
      "crl tfs_9 (50.0um ROC) inserted: False\n",
      "crl tfs_10 (50.0um ROC) inserted: False\n"
     ]
    }
   ],
   "source": [
    "# check which crls are in use\n",
    "for crl in mfx_sim.tfs_list:\n",
    "    print('crl {} ({}um ROC) inserted: {}'.format(crl.name,crl.roc*1e6,crl.enabled))"
   ]
  },
  {
   "cell_type": "code",
   "execution_count": null,
   "id": "f67d01af",
   "metadata": {},
   "outputs": [
    {
     "data": {
      "text/plain": [
       "-inf"
      ]
     },
     "execution_count": 33,
     "metadata": {},
     "output_type": "execute_result"
    }
   ],
   "source": [
    "mfx_sim.tfs_2_x.wm()"
   ]
  },
  {
   "cell_type": "code",
   "execution_count": 29,
   "id": "8fdbe3d5",
   "metadata": {},
   "outputs": [
    {
     "data": {
      "text/plain": [
       "0"
      ]
     },
     "execution_count": 29,
     "metadata": {},
     "output_type": "execute_result"
    }
   ],
   "source": [
    "mfx_sim.beam_params['ax']"
   ]
  },
  {
   "cell_type": "code",
   "execution_count": null,
   "id": "b047dd6d",
   "metadata": {},
   "outputs": [],
   "source": []
  }
 ],
 "metadata": {
  "kernelspec": {
   "display_name": "mini_env",
   "language": "python",
   "name": "python3"
  },
  "language_info": {
   "codemirror_mode": {
    "name": "ipython",
    "version": 3
   },
   "file_extension": ".py",
   "mimetype": "text/x-python",
   "name": "python",
   "nbconvert_exporter": "python",
   "pygments_lexer": "ipython3",
   "version": "3.9.21"
  }
 },
 "nbformat": 4,
 "nbformat_minor": 5
}
